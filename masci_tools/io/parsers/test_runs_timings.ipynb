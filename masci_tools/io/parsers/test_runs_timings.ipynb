{
 "cells": [
  {
   "cell_type": "code",
   "execution_count": 4,
   "id": "989b56b7-a1f0-4ce8-9457-fa126acbe712",
   "metadata": {},
   "outputs": [
    {
     "data": {
      "text/plain": [
       "Profile<uuid='6d41f7e9c2a24e9395e7da1f9a7b8bc0' name='default'>"
      ]
     },
     "execution_count": 4,
     "metadata": {},
     "output_type": "execute_result"
    }
   ],
   "source": [
    "from aiida import orm, load_profile\n",
    "load_profile()"
   ]
  },
  {
   "cell_type": "raw",
   "id": "31b090c3-e507-4e05-a302-87b21f4962b5",
   "metadata": {
    "jupyter": {
     "outputs_hidden": true
    },
    "tags": []
   },
   "source": [
    "from aiida_kkr.parsers import KkrimpParser\n",
    "p = KkrimpParser(orm.load_node(43648))\n",
    "p.parse(timings=True)"
   ]
  },
  {
   "cell_type": "raw",
   "id": "3682de00-0432-4420-b6ce-6d93088af291",
   "metadata": {},
   "source": [
    "from masci_tools.io.common_functions import open_general\n",
    "\n",
    "\n",
    "\n",
    "def get_outfile_txt(outfile):\n",
    "    \"\"\"Get the content of a file\n",
    "    In case the outfile is a file handle, we just roll it back and read everything in again.\n",
    "    For an ordinary file path we open the file in a context manager and then read it.\n",
    "    \"\"\"\n",
    "    \n",
    "    if getattr(outfile, 'readlines', None) is not None:\n",
    "        outfile.seek(0)\n",
    "        tmptxt = outfile.readlines()\n",
    "    else:\n",
    "        with open_general(outfile) as f:\n",
    "            tmptxt = f.readlines()\n",
    "    return tmptxt"
   ]
  },
  {
   "cell_type": "raw",
   "id": "dd347c4e-cd28-4842-a149-5ae96ce12d01",
   "metadata": {},
   "source": [
    "def get_txt():\n",
    "    ret = orm.load_node(43648).outputs.retrieved\n",
    "    with ret.open('out_log.000.txt') as _f:\n",
    "        txt = get_outfile_txt(_f)\n",
    "        \n",
    "%timeit get_txt()"
   ]
  },
  {
   "cell_type": "code",
   "execution_count": null,
   "id": "169b1f3f-8c1f-4cde-942a-fe7055f7a53d",
   "metadata": {},
   "outputs": [],
   "source": []
  },
  {
   "cell_type": "code",
   "execution_count": 11,
   "id": "16311325-cab9-4060-aa9e-2b38710ff7e1",
   "metadata": {},
   "outputs": [
    {
     "ename": "SyntaxError",
     "evalue": "invalid syntax (kkrimp_parser_functions.py, line 152)",
     "output_type": "error",
     "traceback": [
      "Traceback \u001b[0;36m(most recent call last)\u001b[0m:\n",
      "  File \u001b[1;32m\"/opt/aiida-kernel/lib/python3.8/site-packages/IPython/core/interactiveshell.py\"\u001b[0m, line \u001b[1;32m3553\u001b[0m, in \u001b[1;35mrun_code\u001b[0m\n    exec(code_obj, self.user_global_ns, self.user_ns)\n",
      "\u001b[0;36m  File \u001b[0;32m\"/tmp/ipykernel_1053859/1880626869.py\"\u001b[0;36m, line \u001b[0;32m2\u001b[0;36m, in \u001b[0;35m<cell line: 2>\u001b[0;36m\u001b[0m\n\u001b[0;31m    from masci_tools.io.parsers.kkrimp_parser_functions import KkrimpParserFunctions\u001b[0m\n",
      "\u001b[0;36m  File \u001b[0;32m\"/opt/masci-tools/masci_tools/io/parsers/kkrimp_parser_functions.py\"\u001b[0;36m, line \u001b[0;32m152\u001b[0m\n\u001b[0;31m    while itmp, tmpval in search_string_generator('spin magnetic moment =', tmptxt)\u001b[0m\n\u001b[0m              ^\u001b[0m\n\u001b[0;31mSyntaxError\u001b[0m\u001b[0;31m:\u001b[0m invalid syntax\n"
     ]
    }
   ],
   "source": [
    "from aiida_kkr.calculations import KkrimpCalculation\n",
    "from masci_tools.io.parsers.kkrimp_parser_functions import KkrimpParserFunctions"
   ]
  },
  {
   "cell_type": "code",
   "execution_count": 7,
   "id": "a891314e-ad32-46eb-aa18-0bf30df5e7bf",
   "metadata": {},
   "outputs": [],
   "source": [
    "critical_files = [\n",
    "            ('outfile', KkrimpCalculation._DEFAULT_OUTPUT_FILE),\n",
    "            ('out_log', KkrimpCalculation._OUTPUT_000),\n",
    "            ('out_pot', KkrimpCalculation._OUT_POTENTIAL),\n",
    "            ('out_timing', KkrimpCalculation._OUT_TIMING_000),\n",
    "            ('out_enersp_at', KkrimpCalculation._OUT_ENERGYSP_PER_ATOM),\n",
    "            ('out_enertot_at', KkrimpCalculation._OUT_ENERGYTOT_PER_ATOM),\n",
    "        ]"
   ]
  },
  {
   "cell_type": "code",
   "execution_count": 8,
   "id": "71bffcba-a9a2-4f87-9b96-82d0ef3a1390",
   "metadata": {},
   "outputs": [
    {
     "ename": "NotExistent",
     "evalue": "no Node found with ID<43648>: No result was found",
     "output_type": "error",
     "traceback": [
      "\u001b[0;31m---------------------------------------------------------------------------\u001b[0m",
      "\u001b[0;31mNotExistent\u001b[0m                               Traceback (most recent call last)",
      "\u001b[0;32m/opt/aiida-kernel/src/aiida-core/aiida/orm/utils/loaders.py\u001b[0m in \u001b[0;36mload_entity\u001b[0;34m(cls, identifier, identifier_type, sub_classes, query_with_dashes)\u001b[0m\n\u001b[1;32m    406\u001b[0m         \u001b[0;32mtry\u001b[0m\u001b[0;34m:\u001b[0m\u001b[0;34m\u001b[0m\u001b[0;34m\u001b[0m\u001b[0m\n\u001b[0;32m--> 407\u001b[0;31m             \u001b[0mentity\u001b[0m \u001b[0;34m=\u001b[0m \u001b[0mbuilder\u001b[0m\u001b[0;34m.\u001b[0m\u001b[0mone\u001b[0m\u001b[0;34m(\u001b[0m\u001b[0;34m)\u001b[0m\u001b[0;34m[\u001b[0m\u001b[0;36m0\u001b[0m\u001b[0;34m]\u001b[0m\u001b[0;34m\u001b[0m\u001b[0;34m\u001b[0m\u001b[0m\n\u001b[0m\u001b[1;32m    408\u001b[0m         \u001b[0;32mexcept\u001b[0m \u001b[0mMultipleObjectsError\u001b[0m\u001b[0;34m:\u001b[0m\u001b[0;34m\u001b[0m\u001b[0;34m\u001b[0m\u001b[0m\n",
      "\u001b[0;32m/opt/aiida-kernel/src/aiida-core/aiida/orm/querybuilder.py\u001b[0m in \u001b[0;36mone\u001b[0;34m(self)\u001b[0m\n\u001b[1;32m   1112\u001b[0m         \u001b[0;32melif\u001b[0m \u001b[0mlen\u001b[0m\u001b[0;34m(\u001b[0m\u001b[0mres\u001b[0m\u001b[0;34m)\u001b[0m \u001b[0;34m==\u001b[0m \u001b[0;36m0\u001b[0m\u001b[0;34m:\u001b[0m\u001b[0;34m\u001b[0m\u001b[0;34m\u001b[0m\u001b[0m\n\u001b[0;32m-> 1113\u001b[0;31m             \u001b[0;32mraise\u001b[0m \u001b[0mNotExistent\u001b[0m\u001b[0;34m(\u001b[0m\u001b[0;34m'No result was found'\u001b[0m\u001b[0;34m)\u001b[0m\u001b[0;34m\u001b[0m\u001b[0;34m\u001b[0m\u001b[0m\n\u001b[0m\u001b[1;32m   1114\u001b[0m         \u001b[0;32mreturn\u001b[0m \u001b[0mres\u001b[0m\u001b[0;34m[\u001b[0m\u001b[0;36m0\u001b[0m\u001b[0;34m]\u001b[0m\u001b[0;34m\u001b[0m\u001b[0;34m\u001b[0m\u001b[0m\n",
      "\u001b[0;31mNotExistent\u001b[0m: No result was found",
      "\nDuring handling of the above exception, another exception occurred:\n",
      "\u001b[0;31mNotExistent\u001b[0m                               Traceback (most recent call last)",
      "\u001b[0;32m/tmp/ipykernel_1053859/864873475.py\u001b[0m in \u001b[0;36m<cell line: 1>\u001b[0;34m()\u001b[0m\n\u001b[0;32m----> 1\u001b[0;31m \u001b[0mret\u001b[0m \u001b[0;34m=\u001b[0m \u001b[0morm\u001b[0m\u001b[0;34m.\u001b[0m\u001b[0mload_node\u001b[0m\u001b[0;34m(\u001b[0m\u001b[0;36m43648\u001b[0m\u001b[0;34m)\u001b[0m\u001b[0;34m.\u001b[0m\u001b[0moutputs\u001b[0m\u001b[0;34m.\u001b[0m\u001b[0mretrieved\u001b[0m\u001b[0;34m\u001b[0m\u001b[0;34m\u001b[0m\u001b[0m\n\u001b[0m\u001b[1;32m      2\u001b[0m \u001b[0;32mfor\u001b[0m \u001b[0mname\u001b[0m \u001b[0;32min\u001b[0m \u001b[0mcritical_files\u001b[0m\u001b[0;34m:\u001b[0m\u001b[0;34m\u001b[0m\u001b[0;34m\u001b[0m\u001b[0m\n\u001b[1;32m      3\u001b[0m     \u001b[0mprint\u001b[0m\u001b[0;34m(\u001b[0m\u001b[0mname\u001b[0m\u001b[0;34m)\u001b[0m\u001b[0;34m\u001b[0m\u001b[0;34m\u001b[0m\u001b[0m\n\u001b[1;32m      4\u001b[0m     \u001b[0;32mwith\u001b[0m \u001b[0mret\u001b[0m\u001b[0;34m.\u001b[0m\u001b[0mopen\u001b[0m\u001b[0;34m(\u001b[0m\u001b[0mname\u001b[0m\u001b[0;34m[\u001b[0m\u001b[0;36m1\u001b[0m\u001b[0;34m]\u001b[0m\u001b[0;34m,\u001b[0m \u001b[0;34m'rb'\u001b[0m\u001b[0;34m)\u001b[0m \u001b[0;32mas\u001b[0m \u001b[0m_f\u001b[0m\u001b[0;34m:\u001b[0m\u001b[0;34m\u001b[0m\u001b[0;34m\u001b[0m\u001b[0m\n\u001b[1;32m      5\u001b[0m         \u001b[0;32mwith\u001b[0m \u001b[0mopen\u001b[0m\u001b[0;34m(\u001b[0m\u001b[0;34m'test_files/'\u001b[0m\u001b[0;34m+\u001b[0m\u001b[0mname\u001b[0m\u001b[0;34m[\u001b[0m\u001b[0;36m1\u001b[0m\u001b[0;34m]\u001b[0m\u001b[0;34m,\u001b[0m \u001b[0;34m'wb'\u001b[0m\u001b[0;34m)\u001b[0m \u001b[0;32mas\u001b[0m \u001b[0m_f2\u001b[0m\u001b[0;34m:\u001b[0m\u001b[0;34m\u001b[0m\u001b[0;34m\u001b[0m\u001b[0m\n",
      "\u001b[0;32m/opt/aiida-kernel/src/aiida-core/aiida/orm/utils/loaders.py\u001b[0m in \u001b[0;36mload_node\u001b[0;34m(identifier, pk, uuid, label, sub_classes, query_with_dashes)\u001b[0m\n\u001b[1;32m    204\u001b[0m     \u001b[0;34m:\u001b[0m\u001b[0;32mraise\u001b[0m \u001b[0maiida\u001b[0m\u001b[0;34m.\u001b[0m\u001b[0mcommon\u001b[0m\u001b[0;34m.\u001b[0m\u001b[0mMultipleObjectsError\u001b[0m\u001b[0;34m:\u001b[0m \u001b[0;32mif\u001b[0m \u001b[0mmore\u001b[0m \u001b[0mthan\u001b[0m \u001b[0mone\u001b[0m \u001b[0mNode\u001b[0m \u001b[0mwas\u001b[0m \u001b[0mfound\u001b[0m\u001b[0;34m\u001b[0m\u001b[0;34m\u001b[0m\u001b[0m\n\u001b[1;32m    205\u001b[0m     \"\"\"\n\u001b[0;32m--> 206\u001b[0;31m     return load_entity(\n\u001b[0m\u001b[1;32m    207\u001b[0m         \u001b[0mNodeEntityLoader\u001b[0m\u001b[0;34m,\u001b[0m\u001b[0;34m\u001b[0m\u001b[0;34m\u001b[0m\u001b[0m\n\u001b[1;32m    208\u001b[0m         \u001b[0midentifier\u001b[0m\u001b[0;34m=\u001b[0m\u001b[0midentifier\u001b[0m\u001b[0;34m,\u001b[0m\u001b[0;34m\u001b[0m\u001b[0;34m\u001b[0m\u001b[0m\n",
      "\u001b[0;32m/opt/aiida-kernel/src/aiida-core/aiida/orm/utils/loaders.py\u001b[0m in \u001b[0;36mload_entity\u001b[0;34m(entity_loader, identifier, pk, uuid, label, sub_classes, query_with_dashes)\u001b[0m\n\u001b[1;32m     86\u001b[0m         \u001b[0midentifier_type\u001b[0m \u001b[0;34m=\u001b[0m \u001b[0;32mNone\u001b[0m\u001b[0;34m\u001b[0m\u001b[0;34m\u001b[0m\u001b[0m\n\u001b[1;32m     87\u001b[0m \u001b[0;34m\u001b[0m\u001b[0m\n\u001b[0;32m---> 88\u001b[0;31m     return entity_loader.load_entity(\n\u001b[0m\u001b[1;32m     89\u001b[0m         \u001b[0midentifier\u001b[0m\u001b[0;34m,\u001b[0m \u001b[0midentifier_type\u001b[0m\u001b[0;34m,\u001b[0m \u001b[0msub_classes\u001b[0m\u001b[0;34m=\u001b[0m\u001b[0msub_classes\u001b[0m\u001b[0;34m,\u001b[0m \u001b[0mquery_with_dashes\u001b[0m\u001b[0;34m=\u001b[0m\u001b[0mquery_with_dashes\u001b[0m\u001b[0;34m\u001b[0m\u001b[0;34m\u001b[0m\u001b[0m\n\u001b[1;32m     90\u001b[0m     )\n",
      "\u001b[0;32m/opt/aiida-kernel/src/aiida-core/aiida/orm/utils/loaders.py\u001b[0m in \u001b[0;36mload_entity\u001b[0;34m(cls, identifier, identifier_type, sub_classes, query_with_dashes)\u001b[0m\n\u001b[1;32m    411\u001b[0m         \u001b[0;32mexcept\u001b[0m \u001b[0mNotExistent\u001b[0m \u001b[0;32mas\u001b[0m \u001b[0mexception\u001b[0m\u001b[0;34m:\u001b[0m\u001b[0;34m\u001b[0m\u001b[0;34m\u001b[0m\u001b[0m\n\u001b[1;32m    412\u001b[0m             \u001b[0merror\u001b[0m \u001b[0;34m=\u001b[0m \u001b[0;34mf'no {classes} found with {identifier_type}<{identifier}>: {exception}'\u001b[0m\u001b[0;34m\u001b[0m\u001b[0;34m\u001b[0m\u001b[0m\n\u001b[0;32m--> 413\u001b[0;31m             \u001b[0;32mraise\u001b[0m \u001b[0mNotExistent\u001b[0m\u001b[0;34m(\u001b[0m\u001b[0merror\u001b[0m\u001b[0;34m)\u001b[0m\u001b[0;34m\u001b[0m\u001b[0;34m\u001b[0m\u001b[0m\n\u001b[0m\u001b[1;32m    414\u001b[0m \u001b[0;34m\u001b[0m\u001b[0m\n\u001b[1;32m    415\u001b[0m         \u001b[0;32mreturn\u001b[0m \u001b[0mentity\u001b[0m\u001b[0;34m\u001b[0m\u001b[0;34m\u001b[0m\u001b[0m\n",
      "\u001b[0;31mNotExistent\u001b[0m: no Node found with ID<43648>: No result was found"
     ]
    }
   ],
   "source": [
    "ret = orm.load_node(43648).outputs.retrieved\n",
    "for name in critical_files:\n",
    "    print(name)\n",
    "    with ret.open(name[1], 'rb') as _f:\n",
    "        with open('test_files/'+name[1], 'wb') as _f2:\n",
    "            _f2.writelines(_f.readlines())"
   ]
  },
  {
   "cell_type": "code",
   "execution_count": 9,
   "id": "0c120aa9-33f6-40be-9369-1dae5350c9a0",
   "metadata": {},
   "outputs": [
    {
     "data": {
      "text/plain": [
       "{'outfile': 'test_files/out_kkrimp',\n",
       " 'out_log': 'test_files/out_log.000.txt',\n",
       " 'out_pot': 'test_files/out_potential',\n",
       " 'out_timing': 'test_files/out_timing.000.txt',\n",
       " 'out_enersp_at': 'test_files/out_energysp_per_atom_eV',\n",
       " 'out_enertot_at': 'test_files/out_energytotal_per_atom_eV'}"
      ]
     },
     "execution_count": 9,
     "metadata": {},
     "output_type": "execute_result"
    }
   ],
   "source": [
    "named_file_handles = {key: 'test_files/'+val for key, val in critical_files}\n",
    "# named_file_handles['out_log'] = 'test_files/out_log.000.txt_small'\n",
    "named_file_handles"
   ]
  },
  {
   "cell_type": "code",
   "execution_count": 10,
   "id": "4d538c6c-21b0-4bcb-9fc4-44ea975011cb",
   "metadata": {},
   "outputs": [
    {
     "ename": "NameError",
     "evalue": "name 'KkrimpParserFunctions' is not defined",
     "output_type": "error",
     "traceback": [
      "\u001b[0;31m---------------------------------------------------------------------------\u001b[0m",
      "\u001b[0;31mNameError\u001b[0m                                 Traceback (most recent call last)",
      "\u001b[0;32m/tmp/ipykernel_1053859/465914269.py\u001b[0m in \u001b[0;36m<cell line: 2>\u001b[0;34m()\u001b[0m\n\u001b[1;32m      1\u001b[0m \u001b[0;31m# now we can parse the output files\u001b[0m\u001b[0;34m\u001b[0m\u001b[0;34m\u001b[0m\u001b[0;34m\u001b[0m\u001b[0m\n\u001b[0;32m----> 2\u001b[0;31m success, msg_list, out_dict = KkrimpParserFunctions().parse_kkrimp_outputfile(\n\u001b[0m\u001b[1;32m      3\u001b[0m     \u001b[0;34m{\u001b[0m\u001b[0;34m}\u001b[0m\u001b[0;34m,\u001b[0m \u001b[0mnamed_file_handles\u001b[0m\u001b[0;34m,\u001b[0m \u001b[0mdebug\u001b[0m\u001b[0;34m=\u001b[0m\u001b[0;32mFalse\u001b[0m\u001b[0;34m,\u001b[0m \u001b[0mtimings\u001b[0m\u001b[0;34m=\u001b[0m\u001b[0;32mTrue\u001b[0m\u001b[0;34m\u001b[0m\u001b[0;34m\u001b[0m\u001b[0m\n\u001b[1;32m      4\u001b[0m )\n",
      "\u001b[0;31mNameError\u001b[0m: name 'KkrimpParserFunctions' is not defined"
     ]
    }
   ],
   "source": [
    "# now we can parse the output files\n",
    "success, msg_list, out_dict = KkrimpParserFunctions().parse_kkrimp_outputfile(\n",
    "    {}, named_file_handles, debug=False, timings=True\n",
    ")"
   ]
  },
  {
   "cell_type": "code",
   "execution_count": 4,
   "id": "95f91c7f-3aab-4124-84c5-1d44eb9d6834",
   "metadata": {},
   "outputs": [],
   "source": [
    "from masci_tools import __file__"
   ]
  },
  {
   "cell_type": "code",
   "execution_count": 5,
   "id": "5c142d7d-def3-45d9-a68e-9f216ab12919",
   "metadata": {},
   "outputs": [
    {
     "name": "stdout",
     "output_type": "stream",
     "text": [
      "/opt/masci-tools/masci_tools/__init__.py\n"
     ]
    }
   ],
   "source": [
    "print(__file__)"
   ]
  },
  {
   "cell_type": "code",
   "execution_count": 12,
   "id": "88808b6a-23fb-4d96-9394-b869b99bf7e0",
   "metadata": {},
   "outputs": [
    {
     "name": "stdout",
     "output_type": "stream",
     "text": [
      "1.39 s ± 16.3 ms per loop (mean ± std. dev. of 7 runs, 1 loop each)\n"
     ]
    }
   ],
   "source": [
    "from masci_tools.io.parsers.kkrparser_functions import get_rms, parse_array_float\n",
    "\n",
    "def test():\n",
    "    rms_charge, rms_spin, result_atoms_last_charge, result_atoms_last_spin = get_rms(named_file_handles['outfile'],\n",
    "                                                                                     named_file_handles['out_log'],\n",
    "                                                                                     debug=False)\n",
    "    \n",
    "%timeit test()"
   ]
  },
  {
   "cell_type": "code",
   "execution_count": 24,
   "id": "2a3923f6-a128-42c5-9d18-5a6af288cbf9",
   "metadata": {},
   "outputs": [
    {
     "name": "stdout",
     "output_type": "stream",
     "text": [
      "297 ms ± 4.62 ms per loop (mean ± std. dev. of 7 runs, 1 loop each)\n"
     ]
    }
   ],
   "source": [
    "debug = False\n",
    "def test():\n",
    "    rms_charge = parse_array_float(named_file_handles['outfile'], 'average rms-error', [2, '=', 1, 0], ['D', 'E'], debug=debug)\n",
    "\n",
    "%timeit test()"
   ]
  },
  {
   "cell_type": "code",
   "execution_count": 15,
   "id": "4b0995ed-a3ff-4e8f-a386-1a7a9b359ed6",
   "metadata": {},
   "outputs": [
    {
     "name": "stdout",
     "output_type": "stream",
     "text": [
      "408 ms ± 12.1 ms per loop (mean ± std. dev. of 7 runs, 1 loop each)\n"
     ]
    }
   ],
   "source": [
    "\n",
    "def test():\n",
    "    rms_charge_atoms = parse_array_float(named_file_handles['out_log'], 'rms-error for atom', [2, '=', 1, 0], ['D', 'E'])\n",
    "\n",
    "%timeit test()"
   ]
  },
  {
   "cell_type": "code",
   "execution_count": 1,
   "id": "ee374baa-08ed-4dca-bdd7-5d9284e86a47",
   "metadata": {},
   "outputs": [],
   "source": [
    "from masci_tools.io.parsers.kkrparser_functions import get_outfile_txt, search_string\n",
    "from masci_tools.io.common_functions import search_string_generator"
   ]
  },
  {
   "cell_type": "code",
   "execution_count": 13,
   "id": "62f4866c-6f8f-4c1d-8777-ab74d31f50ef",
   "metadata": {},
   "outputs": [
    {
     "name": "stdout",
     "output_type": "stream",
     "text": [
      "1.64 ms ± 7.1 µs per loop (mean ± std. dev. of 7 runs, 1000 loops each)\n"
     ]
    }
   ],
   "source": [
    "outfile = named_file_handles['outfile']\n",
    "\n",
    "%timeit tmptxt = get_outfile_txt(outfile)"
   ]
  },
  {
   "cell_type": "code",
   "execution_count": 14,
   "id": "d5e1dd06-6b35-4142-a88c-5b82a77fe8e1",
   "metadata": {},
   "outputs": [],
   "source": [
    "tmptxt = get_outfile_txt(outfile)"
   ]
  },
  {
   "cell_type": "code",
   "execution_count": 16,
   "id": "5d7e6d77-741c-4f63-9e13-bc04cf4a1273",
   "metadata": {},
   "outputs": [
    {
     "name": "stdout",
     "output_type": "stream",
     "text": [
      "2 ms ± 16.5 µs per loop (mean ± std. dev. of 7 runs, 1 loop each)\n"
     ]
    }
   ],
   "source": [
    "searchstring = 'average rms-error'\n",
    "replacepair = ['D', 'E']\n",
    "splitinfo = [2, '=', 1, 0]\n",
    "\n",
    "debug = False\n",
    "import numpy as np\n",
    "\n",
    "def test():\n",
    "    itmp = 0\n",
    "    res = []\n",
    "    # print(len(tmptxt))\n",
    "    while itmp >= 0:\n",
    "        itmp = search_string(searchstring, tmptxt)\n",
    "        if debug:\n",
    "            print(('in parse_array_float (itmp, searchstring, outfile):', itmp, searchstring, outfile))\n",
    "        if itmp >= 0:\n",
    "            tmpval = tmptxt.pop(itmp)\n",
    "            if replacepair is not None:\n",
    "                tmpval = tmpval.replace(replacepair[0], replacepair[1])\n",
    "            if splitinfo[0] == 1:\n",
    "                tmpval = float(tmpval.split(splitinfo[1])[splitinfo[2]])\n",
    "            elif splitinfo[0] == 2:\n",
    "                tmpval = float(tmpval.split(splitinfo[1])[splitinfo[2]].split()[splitinfo[3]])\n",
    "            else:\n",
    "                raise ValueError('splitinfo[0] has to be either 1 or 2')\n",
    "            res.append(tmpval)\n",
    "    res = np.array(res)\n",
    "    return res\n",
    "    \n",
    "%timeit res = test()"
   ]
  },
  {
   "cell_type": "code",
   "execution_count": 18,
   "id": "18c325aa-4fa6-4839-ac67-8b8af9a80ef9",
   "metadata": {},
   "outputs": [
    {
     "name": "stdout",
     "output_type": "stream",
     "text": [
      "4.61 ms ± 5.62 µs per loop (mean ± std. dev. of 7 runs, 100 loops each)\n"
     ]
    },
    {
     "data": {
      "text/plain": [
       "array([1.8268 , 1.7993 , 1.7741 , 1.7494 , 1.7252 , 1.4396 , 1.6901 ,\n",
       "       1.66   , 1.6316 , 1.6098 , 1.5893 , 1.5692 , 1.5495 , 1.5301 ,\n",
       "       1.5113 , 1.4928 , 1.4749 , 1.4573 , 1.4402 , 1.4235 , 1.4072 ,\n",
       "       1.3913 , 1.3757 , 1.3605 , 1.3457 , 1.3312 , 1.317  , 1.3031 ,\n",
       "       1.2896 , 1.2763 , 1.2634 , 1.2507 , 1.2383 , 1.2261 , 1.2142 ,\n",
       "       1.2025 , 1.1911 , 1.1799 , 1.169  , 1.1583 , 1.1478 , 1.1375 ,\n",
       "       1.1274 , 1.1175 , 1.1078 , 1.0983 , 1.089  , 1.0798 , 1.0708 ,\n",
       "       1.0619 , 1.0532 , 1.0446 , 1.0362 , 1.0279 , 1.0198 , 1.0118 ,\n",
       "       1.0039 , 0.99619, 0.98858, 0.98111, 0.97375, 0.96652, 0.95939,\n",
       "       0.95237, 0.94544, 0.93861, 0.93185, 0.92516, 0.91855, 0.912  ,\n",
       "       0.90547, 0.89901, 0.89274, 0.8866 , 0.88039, 0.87338, 0.86353,\n",
       "       0.84973, 0.87079, 1.0943 , 1.5694 , 1.8131 , 1.7771 , 1.7545 ,\n",
       "       1.734  , 1.713  , 1.6913 , 1.6689 , 1.6455 , 1.6207 , 1.5939 ,\n",
       "       1.5642 , 1.53   , 1.4885 , 1.4346 , 1.3579 , 1.2437 , 1.0821 ,\n",
       "       0.89237, 0.72383, 0.60761, 0.53824, 0.49867, 0.47589, 0.46237,\n",
       "       0.45407, 0.44877, 0.44527, 0.44286, 0.44112, 0.43979, 0.43873,\n",
       "       0.43784, 0.43705, 0.43633, 0.43566, 0.43502, 0.43441, 0.4338 ,\n",
       "       0.43321, 0.43262, 0.43204, 0.43147, 0.4309 , 0.43033, 0.42977,\n",
       "       0.4292 , 0.42864, 0.42808, 0.42753, 0.42697, 0.42641, 0.42586,\n",
       "       0.4253 , 0.42474, 0.42419, 0.42363, 0.42307, 0.42251, 0.42195,\n",
       "       0.42139, 0.42083, 0.42027, 0.41971, 0.41914, 0.41858, 0.41801,\n",
       "       0.41744, 0.41686, 0.41629, 0.41571, 0.41513, 0.41455, 0.41397,\n",
       "       0.41339, 0.4128 , 0.41221, 0.41162, 0.41102, 0.41042, 0.40982,\n",
       "       0.40922, 0.40862, 0.40801, 0.4074 , 0.40678, 0.40617, 0.40555,\n",
       "       0.40493, 0.4043 , 0.40368, 0.40305, 0.40242, 0.40178, 0.40114,\n",
       "       0.4005 , 0.39986, 0.39921, 0.39857, 0.39791, 0.39726, 0.3966 ,\n",
       "       0.39595, 0.39528, 0.39462, 0.39395, 0.39328, 0.39261, 0.39194,\n",
       "       0.39126, 0.39058, 0.3899 , 0.38921, 0.38853, 0.38784, 0.38714,\n",
       "       0.38645, 0.38575, 0.38505, 0.38435])"
      ]
     },
     "execution_count": 18,
     "metadata": {},
     "output_type": "execute_result"
    }
   ],
   "source": [
    "import numpy as np\n",
    "\n",
    "# def search_new(tmptxt, searchstring, splitinfo, replacepair=None, debug=True):\n",
    "#     itmp = 1\n",
    "#     res = []\n",
    "#     while itmp in search_string_generator(searchstring, tmptxt):\n",
    "#         if debug:\n",
    "#             print(('in parse_array_float (itmp, searchstring, outfile):', itmp[0], searchstring, outfile))\n",
    "#         if itmp[0] >= 0:\n",
    "#             if replacepair is not None:\n",
    "#                 itmp[1] = itmp[1].replace(replacepair[0], replacepair[1])\n",
    "#             if splitinfo[0] == 1:\n",
    "#                 itmp[1] = float(itmp[1].split(splitinfo[1])[splitinfo[2]])\n",
    "#             elif splitinfo[0] == 2:\n",
    "#                 itmp[1] = float(itmp[1].split(splitinfo[1])[splitinfo[2]].split()[splitinfo[3]])\n",
    "#             else:\n",
    "#                 raise ValueError('splitinfo[0] has to be either 1 or 2')\n",
    "#             res.append(itmp[1])\n",
    "#     res = np.array(res)\n",
    "#     return res\n",
    "\n",
    "def search_new(tmptxt, searchstring, replacepair, splitinfo, debug=False):\n",
    "    res = []\n",
    "    for (itmp, tmpval) in search_string_generator(searchstring, tmptxt):\n",
    "        if debug:\n",
    "            print(('in parse_array_float (itmp, searchstring, outfile):', itmp, tmpval, searchstring, outfile))\n",
    "        if itmp >= 0:\n",
    "            if replacepair is not None:\n",
    "                if debug:\n",
    "                    print('replace', tmpval, type(tmpval), replacepair[0], replacepair[1])\n",
    "                tmpval = tmpval.replace(replacepair[0], replacepair[1])\n",
    "            if splitinfo[0] == 1:\n",
    "                tmpval = float(tmpval.split(splitinfo[1])[splitinfo[2]])\n",
    "            elif splitinfo[0] == 2:\n",
    "                tmpval = float(tmpval.split(splitinfo[1])[splitinfo[2]].split()[splitinfo[3]])\n",
    "            else:\n",
    "                raise ValueError('splitinfo[0] has to be either 1 or 2')\n",
    "            res.append(tmpval)\n",
    "    res = np.array(res)\n",
    "    return res\n",
    "\n",
    "\n",
    "def test_new():\n",
    "    tmptxt = get_outfile_txt(outfile)\n",
    "    res = search_new(tmptxt, searchstring, replacepair, splitinfo)\n",
    "    return res\n",
    "    \n",
    "%timeit res = test_new()\n",
    "test_new()"
   ]
  },
  {
   "cell_type": "code",
   "execution_count": 41,
   "id": "3232caa6-f1fa-4409-8747-830ba676ed13",
   "metadata": {},
   "outputs": [],
   "source": [
    "for i in search_string_generator('DO NOT FIND ME', tmptxt):\n",
    "    print('in loop')"
   ]
  },
  {
   "cell_type": "code",
   "execution_count": 40,
   "id": "71287d18-4e88-4c33-8de2-f9a82a07feb7",
   "metadata": {},
   "outputs": [
    {
     "name": "stdout",
     "output_type": "stream",
     "text": [
      "289 ms ± 2.22 ms per loop (mean ± std. dev. of 7 runs, 1 loop each)\n"
     ]
    }
   ],
   "source": [
    "def search(tmptxt, searchstring, replacepair, splitinfo):\n",
    "    itmp = 0\n",
    "    res = []\n",
    "    while itmp >= 0:\n",
    "        itmp = search_string(searchstring, tmptxt)\n",
    "        if debug:\n",
    "            print(('in parse_array_float (itmp, searchstring, outfile):', itmp, searchstring, outfile))\n",
    "        if itmp >= 0:\n",
    "            tmpval = tmptxt.pop(itmp)\n",
    "            if replacepair is not None:\n",
    "                tmpval = tmpval.replace(replacepair[0], replacepair[1])\n",
    "            if splitinfo[0] == 1:\n",
    "                tmpval = float(tmpval.split(splitinfo[1])[splitinfo[2]])\n",
    "            elif splitinfo[0] == 2:\n",
    "                tmpval = float(tmpval.split(splitinfo[1])[splitinfo[2]].split()[splitinfo[3]])\n",
    "            else:\n",
    "                raise ValueError('splitinfo[0] has to be either 1 or 2')\n",
    "            res.append(tmpval)\n",
    "    res = np.array(res)\n",
    "    return res\n",
    "\n",
    "def test_old():\n",
    "    tmptxt = get_outfile_txt(outfile)\n",
    "    res = search(tmptxt, searchstring, replacepair, splitinfo)\n",
    "    return res\n",
    "    \n",
    "%timeit res = test_old()\n",
    "# test_old()"
   ]
  },
  {
   "cell_type": "code",
   "execution_count": 37,
   "id": "28aef634-d9e8-4198-8aa9-d0d6bd3ee50a",
   "metadata": {},
   "outputs": [
    {
     "data": {
      "text/plain": [
       "array([ True,  True,  True,  True,  True,  True,  True,  True,  True,\n",
       "        True,  True,  True,  True,  True,  True,  True,  True,  True,\n",
       "        True,  True,  True,  True,  True,  True,  True,  True,  True,\n",
       "        True,  True,  True,  True,  True,  True,  True,  True,  True,\n",
       "        True,  True,  True,  True,  True,  True,  True,  True,  True,\n",
       "        True,  True,  True,  True,  True,  True,  True,  True,  True,\n",
       "        True,  True,  True,  True,  True,  True,  True,  True,  True,\n",
       "        True,  True,  True,  True,  True,  True,  True,  True,  True,\n",
       "        True,  True,  True,  True,  True,  True,  True,  True,  True,\n",
       "        True,  True,  True,  True,  True,  True,  True,  True,  True,\n",
       "        True,  True,  True,  True,  True,  True,  True,  True,  True,\n",
       "        True,  True,  True,  True,  True,  True,  True,  True,  True,\n",
       "        True,  True,  True,  True,  True,  True,  True,  True,  True,\n",
       "        True,  True,  True,  True,  True,  True,  True,  True,  True,\n",
       "        True,  True,  True,  True,  True,  True,  True,  True,  True,\n",
       "        True,  True,  True,  True,  True,  True,  True,  True,  True,\n",
       "        True,  True,  True,  True,  True,  True,  True,  True,  True,\n",
       "        True,  True,  True,  True,  True,  True,  True,  True,  True,\n",
       "        True,  True,  True,  True,  True,  True,  True,  True,  True,\n",
       "        True,  True,  True,  True,  True,  True,  True,  True,  True,\n",
       "        True,  True,  True,  True,  True,  True,  True,  True,  True,\n",
       "        True,  True,  True,  True,  True,  True,  True,  True,  True,\n",
       "        True,  True])"
      ]
     },
     "execution_count": 37,
     "metadata": {},
     "output_type": "execute_result"
    }
   ],
   "source": [
    "test_old() == test_new()"
   ]
  },
  {
   "cell_type": "code",
   "execution_count": 41,
   "id": "955099b2-f4a6-4f5a-934c-edb27051941f",
   "metadata": {},
   "outputs": [
    {
     "name": "stdout",
     "output_type": "stream",
     "text": [
      "1.92 ms ± 35.1 µs per loop (mean ± std. dev. of 7 runs, 1 loop each)\n"
     ]
    }
   ],
   "source": [
    "\n",
    "tmptxt = get_outfile_txt(outfile)\n",
    "def test():\n",
    "    res = search(tmptxt, searchstring, replacepair, splitinfo)\n",
    "    return res\n",
    "    \n",
    "%timeit res = test()"
   ]
  },
  {
   "cell_type": "code",
   "execution_count": null,
   "id": "e5e353c8-ee1d-425b-bcfe-69fa59f24ba0",
   "metadata": {},
   "outputs": [],
   "source": []
  }
 ],
 "metadata": {
  "kernelspec": {
   "display_name": "AiiDA",
   "language": "python",
   "name": "aiida"
  },
  "language_info": {
   "codemirror_mode": {
    "name": "ipython",
    "version": 3
   },
   "file_extension": ".py",
   "mimetype": "text/x-python",
   "name": "python",
   "nbconvert_exporter": "python",
   "pygments_lexer": "ipython3",
   "version": "3.8.10"
  }
 },
 "nbformat": 4,
 "nbformat_minor": 5
}
