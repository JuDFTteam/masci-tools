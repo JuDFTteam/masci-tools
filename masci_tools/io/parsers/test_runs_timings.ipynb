{
 "cells": [
  {
   "cell_type": "code",
   "execution_count": 1,
   "id": "989b56b7-a1f0-4ce8-9457-fa126acbe712",
   "metadata": {},
   "outputs": [
    {
     "name": "stdout",
     "output_type": "stream",
     "text": [
      "\u001b[93m\u001b[1mWarning\u001b[0m: \u001b[22mYou are currently using a post release development version of AiiDA: 2.0.2.post0\u001b[0m\n",
      "\u001b[93m\u001b[1mWarning\u001b[0m: \u001b[22mBe aware that this is not recommended for production and is not officially supported.\u001b[0m\n",
      "\u001b[93m\u001b[1mWarning\u001b[0m: \u001b[22mDatabases used with this version may not be compatible with future releases of AiiDA\u001b[0m\n",
      "\u001b[93m\u001b[1mWarning\u001b[0m: \u001b[22mas you might not be able to automatically migrate your data.\n",
      "\u001b[0m\n"
     ]
    },
    {
     "data": {
      "text/plain": [
       "Profile<uuid='a034b98b2f6f49ee8757523c7f2ed350' name='default'>"
      ]
     },
     "execution_count": 1,
     "metadata": {},
     "output_type": "execute_result"
    }
   ],
   "source": [
    "from aiida import orm, load_profile\n",
    "load_profile()"
   ]
  },
  {
   "cell_type": "raw",
   "id": "31b090c3-e507-4e05-a302-87b21f4962b5",
   "metadata": {
    "jupyter": {
     "outputs_hidden": true
    },
    "tags": []
   },
   "source": [
    "from aiida_kkr.parsers import KkrimpParser\n",
    "p = KkrimpParser(orm.load_node(43648))\n",
    "p.parse(timings=True)"
   ]
  },
  {
   "cell_type": "raw",
   "id": "3682de00-0432-4420-b6ce-6d93088af291",
   "metadata": {},
   "source": [
    "from masci_tools.io.common_functions import open_general\n",
    "\n",
    "\n",
    "\n",
    "def get_outfile_txt(outfile):\n",
    "    \"\"\"Get the content of a file\n",
    "    In case the outfile is a file handle, we just roll it back and read everything in again.\n",
    "    For an ordinary file path we open the file in a context manager and then read it.\n",
    "    \"\"\"\n",
    "    \n",
    "    if getattr(outfile, 'readlines', None) is not None:\n",
    "        outfile.seek(0)\n",
    "        tmptxt = outfile.readlines()\n",
    "    else:\n",
    "        with open_general(outfile) as f:\n",
    "            tmptxt = f.readlines()\n",
    "    return tmptxt"
   ]
  },
  {
   "cell_type": "raw",
   "id": "dd347c4e-cd28-4842-a149-5ae96ce12d01",
   "metadata": {},
   "source": [
    "def get_txt():\n",
    "    ret = orm.load_node(43648).outputs.retrieved\n",
    "    with ret.open('out_log.000.txt') as _f:\n",
    "        txt = get_outfile_txt(_f)\n",
    "        \n",
    "%timeit get_txt()"
   ]
  },
  {
   "cell_type": "code",
   "execution_count": null,
   "id": "169b1f3f-8c1f-4cde-942a-fe7055f7a53d",
   "metadata": {},
   "outputs": [],
   "source": []
  },
  {
   "cell_type": "code",
   "execution_count": 2,
   "id": "16311325-cab9-4060-aa9e-2b38710ff7e1",
   "metadata": {},
   "outputs": [],
   "source": [
    "from aiida_kkr.calculations import KkrimpCalculation\n",
    "from masci_tools.io.parsers.kkrimp_parser_functions import KkrimpParserFunctions"
   ]
  },
  {
   "cell_type": "code",
   "execution_count": 3,
   "id": "a891314e-ad32-46eb-aa18-0bf30df5e7bf",
   "metadata": {},
   "outputs": [],
   "source": [
    "critical_files = [\n",
    "            ('outfile', KkrimpCalculation._DEFAULT_OUTPUT_FILE),\n",
    "            ('out_log', KkrimpCalculation._OUTPUT_000),\n",
    "            ('out_pot', KkrimpCalculation._OUT_POTENTIAL),\n",
    "            ('out_timing', KkrimpCalculation._OUT_TIMING_000),\n",
    "            ('out_enersp_at', KkrimpCalculation._OUT_ENERGYSP_PER_ATOM),\n",
    "            ('out_enertot_at', KkrimpCalculation._OUT_ENERGYTOT_PER_ATOM),\n",
    "        ]"
   ]
  },
  {
   "cell_type": "code",
   "execution_count": 4,
   "id": "71bffcba-a9a2-4f87-9b96-82d0ef3a1390",
   "metadata": {},
   "outputs": [
    {
     "name": "stdout",
     "output_type": "stream",
     "text": [
      "('outfile', 'out_kkrimp')\n",
      "('out_log', 'out_log.000.txt')\n",
      "('out_pot', 'out_potential')\n",
      "('out_timing', 'out_timing.000.txt')\n",
      "('out_enersp_at', 'out_energysp_per_atom_eV')\n",
      "('out_enertot_at', 'out_energytotal_per_atom_eV')\n"
     ]
    }
   ],
   "source": [
    "ret = orm.load_node(43648).outputs.retrieved\n",
    "for name in critical_files:\n",
    "    print(name)\n",
    "    with ret.open(name[1], 'rb') as _f:\n",
    "        with open('test_files/'+name[1], 'wb') as _f2:\n",
    "            _f2.writelines(_f.readlines())"
   ]
  },
  {
   "cell_type": "code",
   "execution_count": 32,
   "id": "0c120aa9-33f6-40be-9369-1dae5350c9a0",
   "metadata": {},
   "outputs": [
    {
     "data": {
      "text/plain": [
       "{'outfile': 'test_files/out_kkrimp',\n",
       " 'out_log': 'test_files/out_log.000.txt',\n",
       " 'out_pot': 'test_files/out_potential',\n",
       " 'out_timing': 'test_files/out_timing.000.txt',\n",
       " 'out_enersp_at': 'test_files/out_energysp_per_atom_eV',\n",
       " 'out_enertot_at': 'test_files/out_energytotal_per_atom_eV'}"
      ]
     },
     "execution_count": 32,
     "metadata": {},
     "output_type": "execute_result"
    }
   ],
   "source": [
    "named_file_handles = {key: 'test_files/'+val for key, val in critical_files}\n",
    "# named_file_handles['out_log'] = 'test_files/out_log.000.txt_small'\n",
    "named_file_handles"
   ]
  },
  {
   "cell_type": "code",
   "execution_count": 33,
   "id": "4d538c6c-21b0-4bcb-9fc4-44ea975011cb",
   "metadata": {},
   "outputs": [
    {
     "name": "stdout",
     "output_type": "stream",
     "text": [
      "start parser\n",
      "parser 1 0.22146868705749512\n",
      "parser 2 5.29449987411499\n",
      "parser 3 0.34971070289611816\n",
      "parser 3 2.881960391998291\n",
      "parser 3 0.0004031658172607422\n",
      "parser 3 1.430511474609375e-05\n",
      "parser 3 0.0074803829193115234\n",
      "parser 3 1.2492520809173584\n",
      "parser 3 0.009205818176269531\n",
      "parser 3 0.0889441967010498\n",
      "parser 3 0.0037970542907714844\n",
      "parser 3 0.049860477447509766\n",
      "parser 3 0.12708425521850586\n",
      "parser 3 0.004278659820556641\n",
      "parser 3 0.14441394805908203\n",
      "parser total 10.433269500732422\n"
     ]
    }
   ],
   "source": [
    "# now we can parse the output files\n",
    "success, msg_list, out_dict = KkrimpParserFunctions().parse_kkrimp_outputfile(\n",
    "    {}, named_file_handles, debug=False, timings=True\n",
    ")"
   ]
  },
  {
   "cell_type": "code",
   "execution_count": 8,
   "id": "95f91c7f-3aab-4124-84c5-1d44eb9d6834",
   "metadata": {},
   "outputs": [],
   "source": []
  },
  {
   "cell_type": "code",
   "execution_count": 12,
   "id": "88808b6a-23fb-4d96-9394-b869b99bf7e0",
   "metadata": {},
   "outputs": [
    {
     "name": "stdout",
     "output_type": "stream",
     "text": [
      "1.39 s ± 16.3 ms per loop (mean ± std. dev. of 7 runs, 1 loop each)\n"
     ]
    }
   ],
   "source": [
    "from masci_tools.io.parsers.kkrparser_functions import get_rms, parse_array_float\n",
    "\n",
    "def test():\n",
    "    rms_charge, rms_spin, result_atoms_last_charge, result_atoms_last_spin = get_rms(named_file_handles['outfile'],\n",
    "                                                                                     named_file_handles['out_log'],\n",
    "                                                                                     debug=False)\n",
    "    \n",
    "%timeit test()"
   ]
  },
  {
   "cell_type": "code",
   "execution_count": 24,
   "id": "2a3923f6-a128-42c5-9d18-5a6af288cbf9",
   "metadata": {},
   "outputs": [
    {
     "name": "stdout",
     "output_type": "stream",
     "text": [
      "297 ms ± 4.62 ms per loop (mean ± std. dev. of 7 runs, 1 loop each)\n"
     ]
    }
   ],
   "source": [
    "debug = False\n",
    "def test():\n",
    "    rms_charge = parse_array_float(named_file_handles['outfile'], 'average rms-error', [2, '=', 1, 0], ['D', 'E'], debug=debug)\n",
    "\n",
    "%timeit test()"
   ]
  },
  {
   "cell_type": "code",
   "execution_count": 15,
   "id": "4b0995ed-a3ff-4e8f-a386-1a7a9b359ed6",
   "metadata": {},
   "outputs": [
    {
     "name": "stdout",
     "output_type": "stream",
     "text": [
      "408 ms ± 12.1 ms per loop (mean ± std. dev. of 7 runs, 1 loop each)\n"
     ]
    }
   ],
   "source": [
    "\n",
    "def test():\n",
    "    rms_charge_atoms = parse_array_float(named_file_handles['out_log'], 'rms-error for atom', [2, '=', 1, 0], ['D', 'E'])\n",
    "\n",
    "%timeit test()"
   ]
  },
  {
   "cell_type": "code",
   "execution_count": 16,
   "id": "ee374baa-08ed-4dca-bdd7-5d9284e86a47",
   "metadata": {},
   "outputs": [],
   "source": [
    "from masci_tools.io.parsers.kkrparser_functions import get_outfile_txt, search_string"
   ]
  },
  {
   "cell_type": "code",
   "execution_count": 34,
   "id": "62f4866c-6f8f-4c1d-8777-ab74d31f50ef",
   "metadata": {},
   "outputs": [
    {
     "name": "stdout",
     "output_type": "stream",
     "text": [
      "1.7 ms ± 6.03 µs per loop (mean ± std. dev. of 7 runs, 1000 loops each)\n"
     ]
    }
   ],
   "source": [
    "outfile = named_file_handles['outfile']\n",
    "\n",
    "%timeit tmptxt = get_outfile_txt(outfile)"
   ]
  },
  {
   "cell_type": "code",
   "execution_count": 35,
   "id": "d5e1dd06-6b35-4142-a88c-5b82a77fe8e1",
   "metadata": {},
   "outputs": [],
   "source": [
    "tmptxt = get_outfile_txt(outfile)"
   ]
  },
  {
   "cell_type": "code",
   "execution_count": 39,
   "id": "5d7e6d77-741c-4f63-9e13-bc04cf4a1273",
   "metadata": {},
   "outputs": [
    {
     "name": "stdout",
     "output_type": "stream",
     "text": [
      "1.97 ms ± 19.7 µs per loop (mean ± std. dev. of 7 runs, 100 loops each)\n"
     ]
    }
   ],
   "source": [
    "searchstring = 'average rms-error'\n",
    "replacepair = ['D', 'E']\n",
    "splitinfo = [2, '=', 1, 0]\n",
    "import numpy as np\n",
    "\n",
    "def test():\n",
    "    itmp = 0\n",
    "    res = []\n",
    "    # print(len(tmptxt))\n",
    "    while itmp >= 0:\n",
    "        itmp = search_string(searchstring, tmptxt)\n",
    "        if debug:\n",
    "            print(('in parse_array_float (itmp, searchstring, outfile):', itmp, searchstring, outfile))\n",
    "        if itmp >= 0:\n",
    "            tmpval = tmptxt.pop(itmp)\n",
    "            if replacepair is not None:\n",
    "                tmpval = tmpval.replace(replacepair[0], replacepair[1])\n",
    "            if splitinfo[0] == 1:\n",
    "                tmpval = float(tmpval.split(splitinfo[1])[splitinfo[2]])\n",
    "            elif splitinfo[0] == 2:\n",
    "                tmpval = float(tmpval.split(splitinfo[1])[splitinfo[2]].split()[splitinfo[3]])\n",
    "            else:\n",
    "                raise ValueError('splitinfo[0] has to be either 1 or 2')\n",
    "            res.append(tmpval)\n",
    "    res = np.array(res)\n",
    "    return res\n",
    "    \n",
    "%timeit res = test()"
   ]
  },
  {
   "cell_type": "code",
   "execution_count": 40,
   "id": "71287d18-4e88-4c33-8de2-f9a82a07feb7",
   "metadata": {},
   "outputs": [
    {
     "name": "stdout",
     "output_type": "stream",
     "text": [
      "293 ms ± 1.22 ms per loop (mean ± std. dev. of 7 runs, 1 loop each)\n"
     ]
    }
   ],
   "source": [
    "def search(tmptxt, searchstring, replacepair, splitinfo):\n",
    "    itmp = 0\n",
    "    res = []\n",
    "    while itmp >= 0:\n",
    "        itmp = search_string(searchstring, tmptxt)\n",
    "        if debug:\n",
    "            print(('in parse_array_float (itmp, searchstring, outfile):', itmp, searchstring, outfile))\n",
    "        if itmp >= 0:\n",
    "            tmpval = tmptxt.pop(itmp)\n",
    "            if replacepair is not None:\n",
    "                tmpval = tmpval.replace(replacepair[0], replacepair[1])\n",
    "            if splitinfo[0] == 1:\n",
    "                tmpval = float(tmpval.split(splitinfo[1])[splitinfo[2]])\n",
    "            elif splitinfo[0] == 2:\n",
    "                tmpval = float(tmpval.split(splitinfo[1])[splitinfo[2]].split()[splitinfo[3]])\n",
    "            else:\n",
    "                raise ValueError('splitinfo[0] has to be either 1 or 2')\n",
    "            res.append(tmpval)\n",
    "    res = np.array(res)\n",
    "    return res\n",
    "\n",
    "def test():\n",
    "    tmptxt = get_outfile_txt(outfile)\n",
    "    res = search(tmptxt, searchstring, replacepair, splitinfo)\n",
    "    return res\n",
    "    \n",
    "%timeit res = test()"
   ]
  },
  {
   "cell_type": "code",
   "execution_count": 41,
   "id": "955099b2-f4a6-4f5a-934c-edb27051941f",
   "metadata": {},
   "outputs": [
    {
     "name": "stdout",
     "output_type": "stream",
     "text": [
      "1.92 ms ± 35.1 µs per loop (mean ± std. dev. of 7 runs, 1 loop each)\n"
     ]
    }
   ],
   "source": [
    "\n",
    "tmptxt = get_outfile_txt(outfile)\n",
    "def test():\n",
    "    res = search(tmptxt, searchstring, replacepair, splitinfo)\n",
    "    return res\n",
    "    \n",
    "%timeit res = test()"
   ]
  },
  {
   "cell_type": "code",
   "execution_count": null,
   "id": "e5e353c8-ee1d-425b-bcfe-69fa59f24ba0",
   "metadata": {},
   "outputs": [],
   "source": []
  }
 ],
 "metadata": {
  "kernelspec": {
   "display_name": "AiiDA",
   "language": "python",
   "name": "aiida"
  },
  "language_info": {
   "codemirror_mode": {
    "name": "ipython",
    "version": 3
   },
   "file_extension": ".py",
   "mimetype": "text/x-python",
   "name": "python",
   "nbconvert_exporter": "python",
   "pygments_lexer": "ipython3",
   "version": "3.8.10"
  }
 },
 "nbformat": 4,
 "nbformat_minor": 5
}
