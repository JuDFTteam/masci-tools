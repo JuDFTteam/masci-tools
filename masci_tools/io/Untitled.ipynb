{
 "cells": [
  {
   "cell_type": "code",
   "execution_count": 3,
   "id": "e09d3297-b6c7-4f69-84cb-bcd1ca17a9c9",
   "metadata": {},
   "outputs": [
    {
     "ename": "SyntaxError",
     "evalue": "invalid syntax (666980031.py, line 3)",
     "output_type": "error",
     "traceback": [
      "\u001b[0;36m  File \u001b[0;32m\"/tmp/ipykernel_1046406/666980031.py\"\u001b[0;36m, line \u001b[0;32m3\u001b[0m\n\u001b[0;31m    while itmp, tmpval in search_string_generator('average rms-error', tmptxt):\u001b[0m\n\u001b[0m              ^\u001b[0m\n\u001b[0;31mSyntaxError\u001b[0m\u001b[0;31m:\u001b[0m invalid syntax\n"
     ]
    }
   ],
   "source": [
    "from masci_tools.io.common_functions import search_string_generator\n",
    "tmptxt = ''\n",
    "while itmp, tmpval in search_string_generator('average rms-error', tmptxt):\n",
    "    print(itmp)"
   ]
  },
  {
   "cell_type": "code",
   "execution_count": 5,
   "id": "d93d3d39-430e-46b9-b92c-1de4227a6183",
   "metadata": {},
   "outputs": [
    {
     "ename": "NameError",
     "evalue": "name 'itmp' is not defined",
     "output_type": "error",
     "traceback": [
      "\u001b[0;31m---------------------------------------------------------------------------\u001b[0m",
      "\u001b[0;31mNameError\u001b[0m                                 Traceback (most recent call last)",
      "\u001b[0;32m/tmp/ipykernel_1046406/2858223541.py\u001b[0m in \u001b[0;36m<cell line: 1>\u001b[0;34m()\u001b[0m\n\u001b[0;32m----> 1\u001b[0;31m \u001b[0;32mwhile\u001b[0m \u001b[0;34m(\u001b[0m\u001b[0mitmp\u001b[0m\u001b[0;34m,\u001b[0m \u001b[0mtmpval\u001b[0m\u001b[0;34m)\u001b[0m \u001b[0;32min\u001b[0m \u001b[0msearch_string_generator\u001b[0m\u001b[0;34m(\u001b[0m\u001b[0;34m'average rms-error'\u001b[0m\u001b[0;34m,\u001b[0m \u001b[0mtmptxt\u001b[0m\u001b[0;34m)\u001b[0m\u001b[0;34m:\u001b[0m\u001b[0;34m\u001b[0m\u001b[0;34m\u001b[0m\u001b[0m\n\u001b[0m\u001b[1;32m      2\u001b[0m     \u001b[0mprint\u001b[0m\u001b[0;34m(\u001b[0m\u001b[0mitmp\u001b[0m\u001b[0;34m)\u001b[0m\u001b[0;34m\u001b[0m\u001b[0;34m\u001b[0m\u001b[0m\n",
      "\u001b[0;31mNameError\u001b[0m: name 'itmp' is not defined"
     ]
    }
   ],
   "source": [
    "while (itmp, tmpval) in search_string_generator('average rms-error', tmptxt):\n",
    "    print(itmp)"
   ]
  },
  {
   "cell_type": "code",
   "execution_count": null,
   "id": "dc7496ab-5532-4e30-8a22-60426c272f2a",
   "metadata": {},
   "outputs": [],
   "source": []
  }
 ],
 "metadata": {
  "kernelspec": {
   "display_name": "AiiDA",
   "language": "python",
   "name": "aiida"
  },
  "language_info": {
   "codemirror_mode": {
    "name": "ipython",
    "version": 3
   },
   "file_extension": ".py",
   "mimetype": "text/x-python",
   "name": "python",
   "nbconvert_exporter": "python",
   "pygments_lexer": "ipython3",
   "version": "3.8.10"
  }
 },
 "nbformat": 4,
 "nbformat_minor": 5
}
